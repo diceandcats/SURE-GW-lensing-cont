{
 "cells": [
  {
   "cell_type": "code",
   "execution_count": 6,
   "metadata": {},
   "outputs": [],
   "source": [
    "import numpy as np\n",
    "from astropy.io import fits\n",
    "from lenstronomy.LensModel.lens_model import LensModel\n",
    "from lenstronomy.LensModel.Solver.lens_equation_solver import LensEquationSolver\n",
    "import os\n"
   ]
  },
  {
   "cell_type": "code",
   "execution_count": 7,
   "metadata": {},
   "outputs": [
    {
     "name": "stdout",
     "output_type": "stream",
     "text": [
      "Please input the index of the name of the galaxy cluster for placing the source listed: \n",
      "Abell 370, Abell 2744, Abell S1063, MACS0416, MACS0717, MACS1149\n",
      "Please input the source and lens redshifts separated by a comma: \n"
     ]
    }
   ],
   "source": [
    "print(\"Please input the index of the name of the galaxy cluster for placing the source listed: \\nAbell 370, Abell 2744, Abell S1063, MACS0416, MACS0717, MACS1149\")\n",
    "cluster_index = input()\n",
    "print(\"Please input the source and lens redshifts separated by a comma: \")\n",
    "z_s, z_l = input().split(',')\n",
    "z_s = float(z_s)\n",
    "z_l = float(z_l)\n"
   ]
  },
  {
   "cell_type": "code",
   "execution_count": 8,
   "metadata": {},
   "outputs": [
    {
     "name": "stdout",
     "output_type": "stream",
     "text": [
      "/home/dices/SURE/SURE-GW-lensing-cont/Real stuffs/GCdata/Abell 370/hlsp_frontier_model_abell370_williams_v4_x-arcsec-deflect.fits\n"
     ]
    }
   ],
   "source": [
    "# 6 cases: 1, 2 ,3, 4, 5, 6\n",
    "\n",
    "scenarios = {\n",
    "    '1': 'abell370',\n",
    "    '2': 'abell2744',\n",
    "    '3': 'abells1063',\n",
    "    '4': 'macs0416',\n",
    "    '5': 'macs0717',\n",
    "    '6': 'macs1149'\n",
    "}\n",
    "\n",
    "full_cluster_names = {\n",
    "    'abell370': 'Abell 370',\n",
    "    'abell2744': 'Abell 2744',\n",
    "    'abells1063': 'Abell S1063',\n",
    "    'macs0416': 'MACS J0416.1-2403',\n",
    "    'macs0717': 'MACS J0717.5+3745',\n",
    "    'macs1149': 'MACS J1149.5+2223'\n",
    "}\n",
    "\n",
    "if cluster_index in scenarios:\n",
    "    clustername = scenarios[cluster_index]\n",
    "    full_cluster_name = full_cluster_names[clustername]\n",
    "\n",
    "    fits_filex = f'GCdata/{full_cluster_name}/hlsp_frontier_model_{clustername}_williams_v4_x-arcsec-deflect.fits'\n",
    "    fits_filey = f'GCdata/{full_cluster_name}/hlsp_frontier_model_{clustername}_williams_v4_y-arcsec-deflect.fits'\n",
    "    psi_file = f'GCdata/{full_cluster_name}/hlsp_frontier_model_{clustername}_williams_v4_psi.fits'\n",
    "    \n",
    "    hdul = fits.open(fits_filex)\n",
    "    hdul1 = fits.open(fits_filey)\n",
    "    hdul_psi = fits.open(psi_file)\n",
    "    print(os.path.abspath(fits_filex))\n",
    "    datax = hdul[0].data\n",
    "    datay = hdul1[0].data\n",
    "    data_psi = hdul_psi[0].data\n",
    "    hdul.close()\n",
    "    hdul1.close()\n",
    "    hdul_psi.close()\n",
    "\n",
    "    def get_pixscale(cluster_name, file_path='GCdata/pixsize'):\n",
    "        with open(file_path, 'r') as file:\n",
    "            for line in file:\n",
    "                if line.startswith(cluster_name):\n",
    "                    # Split the line to get the value after the colon and return it as a float\n",
    "                    return float(line.split(':')[1].strip())\n",
    "        return None  # Return None if the cluster name isn't found\n",
    "    pixscale = get_pixscale(full_cluster_name)\n",
    "    data_psi_arcsec = data_psi * pixscale**2\n",
    "\n",
    "    realsize = datax.shape[0]\n",
    "    grid = np.linspace(0, realsize-1, realsize) * pixscale\n",
    "    lens_model_list = ['INTERPOL']\n",
    "    kwargs_lens = [{'grid_interp_x': grid, 'grid_interp_y': grid, 'f_': data_psi_arcsec,\n",
    "                            'f_x': datax, 'f_y': datay}]\n",
    "    lensModel = LensModel(lens_model_list=lens_model_list, z_lens=z_l,\n",
    "        z_source=z_s)\n",
    "    solver = LensEquationSolver(lensModel)\n",
    "\n",
    "else:\n",
    "    print(\"Invalid input\")\n",
    "    exit()"
   ]
  },
  {
   "cell_type": "code",
   "execution_count": 9,
   "metadata": {},
   "outputs": [
    {
     "name": "stdout",
     "output_type": "stream",
     "text": [
      "Please input the source position in the format x,y (range of the values: 0 to 149.6)\n",
      "[70.0, 70.0]\n"
     ]
    }
   ],
   "source": [
    "print(f'Please input the source position in the format x,y (range of the values: 0 to {(realsize-1)*pixscale})')\n",
    "src_pos = input()\n",
    "src_pos = src_pos.split(',')\n",
    "src_pos = list(map(float, src_pos))\n",
    "print(src_pos)"
   ]
  },
  {
   "cell_type": "code",
   "execution_count": 10,
   "metadata": {},
   "outputs": [
    {
     "name": "stdout",
     "output_type": "stream",
     "text": [
      "Image positions: (array([120.17904453, 117.77708643, 107.37295486]), array([ 47.11456254, 105.07632556,  94.50852322]))\n",
      "Magnification: [-6.55162496 -2.1462991   1.82230431]\n",
      "Time delay: [0.0, 22780.91616237443, 25906.503600365948]\n"
     ]
    }
   ],
   "source": [
    "img_pos = solver.image_position_from_source(src_pos[0], src_pos[1], kwargs_lens, min_distance=pixscale, search_window=100, verbose=False, x_center=75, y_center=80)\n",
    "print(f'Image positions: {img_pos}')\n",
    "mag = lensModel.magnification(img_pos[0], img_pos[1], kwargs_lens)\n",
    "print(f'Magnification: {mag}')\n",
    "t = lensModel.arrival_time(img_pos[0], img_pos[1], kwargs_lens, x_source=src_pos[0], y_source=src_pos[1])\n",
    "dt = []\n",
    "for i in range(len(img_pos[0])):\n",
    "    dt.append(t[i] - min(t))\n",
    "print(f'Time delay: {dt}')"
   ]
  }
 ],
 "metadata": {
  "kernelspec": {
   "display_name": "Python 3",
   "language": "python",
   "name": "python3"
  },
  "language_info": {
   "codemirror_mode": {
    "name": "ipython",
    "version": 3
   },
   "file_extension": ".py",
   "mimetype": "text/x-python",
   "name": "python",
   "nbconvert_exporter": "python",
   "pygments_lexer": "ipython3",
   "version": "3.10.12"
  }
 },
 "nbformat": 4,
 "nbformat_minor": 2
}
